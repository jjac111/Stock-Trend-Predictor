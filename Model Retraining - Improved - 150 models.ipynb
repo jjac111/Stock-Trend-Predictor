{
 "cells": [
  {
   "cell_type": "markdown",
   "metadata": {},
   "source": [
    "## Model Training\n",
    "The modeling phase of the machine learning workflow consists in defining the models to be trained, train the created models, and subsequently test each model's accuracy.\n",
    "\n",
    "I am using Amazon Sagemaker for the training, testing, and deployment of the defined models. "
   ]
  },
  {
   "cell_type": "code",
   "execution_count": 24,
   "metadata": {
    "scrolled": true
   },
   "outputs": [],
   "source": [
    "import os\n",
    "from os.path import isfile, join\n",
    "import matplotlib.pyplot as plt\n",
    "import pandas as pd\n",
    "import numpy as np\n",
    "import tensorflow\n",
    "import statistics\n",
    "import keras\n",
    "from statistics import mean, mode, median, stdev\n",
    "from keras.optimizers import Adam\n",
    "from keras.callbacks import ModelCheckpoint, Callback\n",
    "from keras.models import Model\n",
    "from keras.layers import Dense, Input, Dropout, Activation\n",
    "from IPython.display import clear_output\n",
    "from create_model import create_model"
   ]
  },
  {
   "cell_type": "code",
   "execution_count": 2,
   "metadata": {},
   "outputs": [],
   "source": [
    "from IPython.display import Audio, display\n",
    "\n",
    "def allDone():\n",
    "  display(Audio(url='https://www.pacdv.com/sounds/fart-sounds/fart-2.wav', autoplay=True))"
   ]
  },
  {
   "cell_type": "code",
   "execution_count": 3,
   "metadata": {},
   "outputs": [],
   "source": [
    "# Constants to use for this notebook\n",
    "\n",
    "\n",
    "# The time ranges that the trained models will predict\n",
    "time_range = [1, 5, 10, 20, 90, 270]\n",
    "time_words = {1:'day', 5:'week', 10:'two_weeks', 20:'month', 90:'four_months', 270:'year'}\n",
    "\n",
    "# The time ranges used for feature calculations\n",
    "periods = [5, 10, 20, 90, 270]\n",
    "\n",
    "# directory containing training and testing datasets\n",
    "data_dir = join('data_2/') \n",
    "final_data_dir = join(data_dir + 'final/')\n",
    "model_directory = 'models_3/'\n",
    "model_history_directory = model_directory + 'history/'\n",
    "\n",
    "    "
   ]
  },
  {
   "cell_type": "code",
   "execution_count": 4,
   "metadata": {
    "scrolled": true
   },
   "outputs": [],
   "source": [
    "# Read training and testing data\n",
    "data = {}\n",
    "for t in time_range:\n",
    "    for n1 in periods:\n",
    "        for n2 in periods:\n",
    "            mod = f'{t}-{n1}-{n2}'\n",
    "            data[mod] = {}\n",
    "            train_file = final_data_dir+time_words[t]+f'/{n1}_{n2}/train.csv'\n",
    "            test_file = final_data_dir+time_words[t]+f'/{n1}_{n2}/test.csv'\n",
    "\n",
    "            df_train = pd.read_csv(train_file, header=None)\n",
    "            df_test = pd.read_csv(test_file, header=None)\n",
    "\n",
    "            y_train = df_train[0]\n",
    "            X_train = df_train.drop(labels=0, axis=1)\n",
    "            y_test = df_test[0]\n",
    "            X_test = df_test.drop(labels=0, axis=1)\n",
    "\n",
    "            data[mod]['y_train'] = y_train\n",
    "            data[mod]['X_train'] = X_train\n",
    "            data[mod]['y_test'] = y_test\n",
    "            data[mod]['X_test'] = X_test\n",
    "    "
   ]
  },
  {
   "cell_type": "markdown",
   "metadata": {},
   "source": [
    "### Model Definition\n",
    "Under the ``source/`` directory is the file ``model.py``, which contains the definition for a class named ``BinaryClassifier``. This class defines our base ANN model for this project which hast the following structure:\n",
    "1. Three parameters need to be passed to the model:\n",
    "    * ``input_features``: the number of neurons to create for input (11 in this case)\n",
    "    * ``output_dim``: the number of neurons in the final layer of the ANN. For a binary classifier this is 1, and the result ranges from [0,1].\n",
    "2. The number of neurons in the 4 hidden layers of the model are defined as:\n",
    "    * ``2*input_features``\n",
    "    * ``input_features/2``\n",
    "3. The forward pass of the model\n",
    "    * Input layer -> Linear transform to the first hidden layer\n",
    "    * Passed into Rectifier Linear Unit function\n",
    "    * Dropout layer (for training only)\n",
    "    * Repeat the above steps until the final hidden layer...\n",
    "    * Last hidden layer -> Linear transform to the output layer\n",
    "    * Sigmoid Activation Function -> Result\n",
    "    "
   ]
  },
  {
   "cell_type": "code",
   "execution_count": 5,
   "metadata": {},
   "outputs": [],
   "source": [
    "# Define this model's hidden layer nodes and parameters\n",
    "input_dim = 11\n",
    "d1 = 2*input_dim\n",
    "d2 = round(input_dim/2)\n",
    "d3 = 1\n",
    "activation = 'sigmoid'\n",
    "dropout = 0.4\n",
    "epochs = 10000\n",
    "lr = 0.01\n",
    "batch = 100"
   ]
  },
  {
   "cell_type": "markdown",
   "metadata": {},
   "source": [
    "## Plotting live callback definition"
   ]
  },
  {
   "cell_type": "code",
   "execution_count": 6,
   "metadata": {},
   "outputs": [],
   "source": [
    "class PlotLearning(Callback):\n",
    "    def on_train_begin(self, logs={}):\n",
    "        self.i = 0\n",
    "        self.x = []\n",
    "        self.losses = []\n",
    "        self.val_losses = []\n",
    "        self.acc = []\n",
    "        self.val_acc = []\n",
    "        self.fig = plt.figure()\n",
    "        \n",
    "        self.logs = []\n",
    "\n",
    "    def on_epoch_end(self, epoch, logs={}):\n",
    "        \n",
    "        self.logs.append(logs)\n",
    "        self.x.append(self.i)\n",
    "        self.losses.append(logs.get('loss'))\n",
    "        self.val_losses.append(logs.get('val_loss'))\n",
    "        self.acc.append(logs.get('accuracy'))\n",
    "        self.val_acc.append(logs.get('val_acc'))\n",
    "        self.i += 1\n",
    "        f, (ax1, ax2) = plt.subplots(1, 2, sharex=True)\n",
    "        \n",
    "        clear_output(wait=True)\n",
    "        \n",
    "        ax1.set_yscale('log')\n",
    "        ax1.plot(self.x, self.losses, label=\"loss\")\n",
    "        ax1.plot(self.x, self.val_losses, label=\"val_loss\")\n",
    "        ax1.legend()\n",
    "        \n",
    "        ax2.plot(self.x, self.acc, label=\"accuracy\")\n",
    "        ax2.plot(self.x, self.val_acc, label=\"validation accuracy\")\n",
    "        ax2.legend(['accuracy', f'epoch: {epoch}'])\n",
    "        plt.show();\n",
    "        \n",
    "plot = PlotLearning()"
   ]
  },
  {
   "cell_type": "code",
   "execution_count": 7,
   "metadata": {},
   "outputs": [
    {
     "name": "stdout",
     "output_type": "stream",
     "text": [
      "Model: \"1-5-5\"\n",
      "_________________________________________________________________\n",
      "Layer (type)                 Output Shape              Param #   \n",
      "=================================================================\n",
      "the_input (InputLayer)       (None, 11)                0         \n",
      "_________________________________________________________________\n",
      "dense_1 (Dense)              (None, 22)                264       \n",
      "_________________________________________________________________\n",
      "dropout_1 (Dropout)          (None, 22)                0         \n",
      "_________________________________________________________________\n",
      "dense_2 (Dense)              (None, 6)                 138       \n",
      "_________________________________________________________________\n",
      "dropout_2 (Dropout)          (None, 6)                 0         \n",
      "_________________________________________________________________\n",
      "dense_3 (Dense)              (None, 1)                 7         \n",
      "_________________________________________________________________\n",
      "sigmoid (Activation)         (None, 1)                 0         \n",
      "=================================================================\n",
      "Total params: 409\n",
      "Trainable params: 409\n",
      "Non-trainable params: 0\n",
      "_________________________________________________________________\n",
      "None\n"
     ]
    }
   ],
   "source": [
    "models = []\n",
    "for t in time_range:\n",
    "    for n1 in periods:\n",
    "        for n2 in periods:\n",
    "            model = create_model(t, n1, n2)\n",
    "            model.compile(optimizer=Adam(learning_rate=lr), loss='binary_crossentropy', metrics=['accuracy'])\n",
    "            models.append(model)\n",
    "    \n",
    "print(models[0].summary())"
   ]
  },
  {
   "cell_type": "markdown",
   "metadata": {},
   "source": [
    "### Model Training\n",
    "The model training will be performed by Amazon Sagemaker. Training jobs will be created for each training dataset in the ``final/`` directory. Under ``source/`` there is a file named ``train.py``, which contains the structure for a PyTorch entry point. This is necesssary for creating estimators through Sagemaker."
   ]
  },
  {
   "cell_type": "code",
   "execution_count": 8,
   "metadata": {},
   "outputs": [],
   "source": [
    "if not os.path.exists(model_history_directory):\n",
    "    os.makedirs(model_history_directory)"
   ]
  },
  {
   "cell_type": "code",
   "execution_count": 9,
   "metadata": {},
   "outputs": [
    {
     "data": {
      "image/png": "[encoded data removed]",
      "text/plain": [
       "<Figure size 432x288 with 2 Axes>"
      ]
     },
     "metadata": {
      "needs_background": "light"
     },
     "output_type": "display_data"
    },
    {
     "data": {
      "text/html": [
       "\n",
       "                <audio  controls=\"controls\" autoplay=\"autoplay\">\n",
       "                    <source src=\"https://www.pacdv.com/sounds/fart-sounds/fart-2.wav\" type=\"audio/wav\" />\n",
       "                    Your browser does not support the audio element.\n",
       "                </audio>\n",
       "              "
      ],
      "text/plain": [
       "<IPython.lib.display.Audio object>"
      ]
     },
     "metadata": {},
     "output_type": "display_data"
    }
   ],
   "source": [
    "for model in models:\n",
    "    name = model.name\n",
    "    if os.path.isfile(model_directory+name+'.h5'):\n",
    "        print(f'Model {name} has been trained.')\n",
    "    else:\n",
    "        X_train = data[name]['X_train']\n",
    "        y_train = data[name]['y_train']\n",
    "        \n",
    "        history = model.fit(x=X_train, \n",
    "                  y=y_train,\n",
    "                  batch_size=batch,\n",
    "                  epochs=epochs,\n",
    "                  verbose=0,\n",
    "                  callbacks=[plot]\n",
    "                 )\n",
    "\n",
    "\n",
    "        model.save(model_directory+name+'.h5')\n",
    "        df = pd.DataFrame.from_dict(history.history)\n",
    "        df.to_csv(model_history_directory+name+'_history.csv')\n",
    "        allDone()"
   ]
  },
  {
   "cell_type": "markdown",
   "metadata": {},
   "source": [
    "### Model Evaluation\n",
    "For evaluation I am deploying each training job created. For each estimator, a predictor endpoint is created briefly to be sent data to make predictions. For each predictor, their respective test datasets are passed. The endpoint for the predictor is then deleted. Then, accuracy calculations are made against the labeled test datasets, they are printed and stored into ``.txt`` files under the ``results/`` directory.\n"
   ]
  },
  {
   "cell_type": "code",
   "execution_count": 18,
   "metadata": {},
   "outputs": [],
   "source": [
    "models = []\n",
    "for t in time_range:\n",
    "    for n1 in periods:\n",
    "        for n2 in periods:\n",
    "            name = f'{t}-{n1}-{n2}'\n",
    "            filepath = model_directory+name+'.h5'\n",
    "            model = create_model(t, n1, n2)\n",
    "            model.load_weights(filepath)\n",
    "            models.append(model)"
   ]
  },
  {
   "cell_type": "code",
   "execution_count": 20,
   "metadata": {},
   "outputs": [],
   "source": [
    "# Read training and testing data separated by tickers\n",
    "data = {}\n",
    "for t in time_range:\n",
    "    for n1 in periods:\n",
    "        for n2 in periods:\n",
    "            mod = f'{t}-{n1}-{n2}'\n",
    "            data[mod] = {}\n",
    "            data[mod]['train'] = {}\n",
    "            data[mod]['test'] = {}\n",
    "            m = mod.split('-')\n",
    "            directory_tr = final_data_dir+time_words[int(m[0])]+'/'+m[1]+'_'+m[2]+'/train/'\n",
    "            directory_ts = final_data_dir+time_words[int(m[0])]+'/'+m[1]+'_'+m[2]+'/test/'\n",
    "\n",
    "            for filename in os.listdir(directory_tr):\n",
    "                df = pd.read_csv(directory_tr+filename, header=None).iloc[::-1]\n",
    "                data[mod]['train'][filename.split('.')[0]+'_y'] = df[0]\n",
    "                data[mod]['train'][filename.split('.')[0]+'_X'] = df.drop(labels=0, axis=1)\n",
    "            for filename in os.listdir(directory_ts):\n",
    "                df = pd.read_csv(directory_ts+filename, header=None).iloc[::-1]\n",
    "                data[mod]['test'][filename.split('.')[0]+'_y'] = df[0]\n",
    "                data[mod]['test'][filename.split('.')[0]+'_X'] = df.drop(labels=0, axis=1)\n",
    "\n",
    "\n",
    "    \n",
    "    "
   ]
  },
  {
   "cell_type": "code",
   "execution_count": null,
   "metadata": {},
   "outputs": [],
   "source": [
    "tickers_file = 'ndxt_tickers.txt'\n",
    "ndxt_tickers = []\n",
    "with open('data/'+tickers_file) as f:\n",
    "    for ticker in f:\n",
    "        ndxt_tickers.append(ticker.replace('\\n', ''))"
   ]
  },
  {
   "cell_type": "code",
   "execution_count": null,
   "metadata": {
    "scrolled": true
   },
   "outputs": [],
   "source": [
    "evaluation = {}\n",
    "for model in models:\n",
    "    evaluation[model.name] = {}\n",
    "    \n",
    "    for symbol in ndxt_tickers:\n",
    "        evaluation[model.name][symbol] = []\n",
    "        length = len(data[model.name]['test'][symbol+'_X'])\n",
    "        data_X = data[model.name]['test'][symbol+'_X']\n",
    "        data_y = data[model.name]['test'][symbol+'_y']\n",
    "        \n",
    "        for i in range(length):\n",
    "            x = data_X[i:i+1]\n",
    "            y = data_y[i:i+1]\n",
    "            evaluation[model.name][symbol].append(model.evaluate(x, y, verbose=0)[1])"
   ]
  },
  {
   "cell_type": "code",
   "execution_count": null,
   "metadata": {},
   "outputs": [],
   "source": [
    "acc_streaks = {}\n",
    "for mod, evals in evaluation.items():\n",
    "    acc_streaks[mod] = {}\n",
    "    acc_streaks[mod]['accuracy'] = []\n",
    "    acc_streaks[mod]['streak'] = []\n",
    "    \n",
    "    print(f'Evalutation for model: {mod}\\n')\n",
    "    plt.figure()\n",
    "    for symbol, accuracies in evals.items():\n",
    "        print(mod+' '+symbol)\n",
    "        acc = round(sum(accuracies)/len(accuracies),2)\n",
    "        print(f'Average accuracy: {acc}')\n",
    "        \n",
    "        streak = 0\n",
    "        for i, a in enumerate(accuracies):\n",
    "            if a != 1: \n",
    "                streak = i\n",
    "                break\n",
    "        print(f'Longest accurate streak: {streak}')\n",
    "        \n",
    "        acc_streaks[mod]['accuracy'].append(acc)\n",
    "        acc_streaks[mod]['streak'].append(streak)\n",
    "        \n",
    "        plt.subplot()\n",
    "        plt.hist(range(len(accuracies)), int(len(accuracies)/10), weights=accuracies)\n",
    "        plt.xlabel('Test samples')\n",
    "        plt.ylabel('Accuracy')\n",
    "        plt.title(mod+' tested on '+symbol)\n",
    "        plt.show()\n",
    "        \n",
    "        "
   ]
  },
  {
   "cell_type": "code",
   "execution_count": null,
   "metadata": {},
   "outputs": [],
   "source": [
    "for mod, acc_streak in acc_streaks.items():\n",
    "    print(f'Model: {mod}')\n",
    "    acc = sum(acc_streak['accuracy'])/len(acc_streak['accuracy'])\n",
    "    print(f'Average accuracy: {round(acc, 2)}')\n",
    "    streak = sum(acc_streak['streak'])/len(acc_streak['streak'])\n",
    "    print(f'Average longest accurate streak: {round(streak, 2)}')\n",
    "    print()"
   ]
  }
 ],
 "metadata": {
  "kernelspec": {
   "display_name": "Python 3",
   "language": "python",
   "name": "python3"
  },
  "language_info": {
   "codemirror_mode": {
    "name": "ipython",
    "version": 3
   },
   "file_extension": ".py",
   "mimetype": "text/x-python",
   "name": "python",
   "nbconvert_exporter": "python",
   "pygments_lexer": "ipython3",
   "version": "3.7.3"
  }
 },
 "nbformat": 4,
 "nbformat_minor": 4
}
