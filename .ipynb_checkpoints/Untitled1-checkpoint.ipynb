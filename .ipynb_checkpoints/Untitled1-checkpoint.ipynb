{
 "cells": [
  {
   "cell_type": "code",
   "execution_count": 7,
   "metadata": {},
   "outputs": [],
   "source": [
    "import os\n",
    "import pandas_datareader as pdr\n",
    "import matplotlib.pyplot as plt\n",
    "import pandas as pd"
   ]
  },
  {
   "cell_type": "code",
   "execution_count": 10,
   "metadata": {},
   "outputs": [],
   "source": [
    "# Define the instruments to download. We would like to see Apple, Microsoft and the S&P500 index.\n",
    "tickers = ['AAPL', 'MSFT', '^GSPC']\n",
    "tiingo_api_key = os.environ['TIINGO_API_KEY']\n",
    "iex_api_key = os.environ['IEX_API_KEY']\n",
    "\n",
    "# We would like all available data from 01/01/2000 until 12/31/2016.\n",
    "start_date = '2010-01-01'\n",
    "end_date = '2016-12-31'\n",
    "\n",
    "# User pandas_reader.data.DataReader to load the desired data. As simple as that.\n",
    "panel_data = pdr.get_data_tiingo('GOOG', api_key=tiingo_api_key)\n",
    "#panel_data = pdr.data.DataReader('GOOG', 'iex', start_date, api_key=iex_api_key)"
   ]
  },
  {
   "cell_type": "code",
   "execution_count": 11,
   "metadata": {},
   "outputs": [],
   "source": [
    "# File containing all tickers listed by NASDAQ-100\n",
    "tickers_file = 'nasdaq_100_tickers.txt'"
   ]
  },
  {
   "cell_type": "code",
   "execution_count": 21,
   "metadata": {},
   "outputs": [],
   "source": [
    "# Read all the tickers to be used in the data\n",
    "ndxt_tickers = []\n",
    "with open(tickers_file) as f:\n",
    "    for ticker in f:\n",
    "        ndxt_tickers.append(ticker.replace('\\n', ''))"
   ]
  },
  {
   "cell_type": "code",
   "execution_count": 35,
   "metadata": {},
   "outputs": [],
   "source": [
    "raw_stock_data_tiingo = []\n",
    "raw_stock_data_iex = []\n",
    "error_tickers = []\n",
    "\n",
    "for ticker in ndxt_tickers:\n",
    "    try:\n",
    "        raw_stock_data_tiingo.append(pdr.get_data_tiingo(ticker, api_key= tiingo_api_key))\n",
    "    except:\n",
    "        error_tickers.append(ticker)"
   ]
  },
  {
   "cell_type": "code",
   "execution_count": 73,
   "metadata": {},
   "outputs": [
    {
     "name": "stdout",
     "output_type": "stream",
     "text": [
      "KHC 1068\n",
      "PYPL 1058\n"
     ]
    },
    {
     "data": {
      "text/plain": [
       "98"
      ]
     },
     "execution_count": 73,
     "metadata": {},
     "output_type": "execute_result"
    }
   ],
   "source": [
    "# Check for incomplete(dates) stocks and remove them\n",
    "for i, t in enumerate(raw_stock_data_tiingo):\n",
    "    if len(t) != 1257: \n",
    "        print(t.index.values[0][0], len(t))\n",
    "        raw_stock_data_tiingo.pop(i)\n",
    "len(raw_stock_data_tiingo)"
   ]
  },
  {
   "cell_type": "code",
   "execution_count": 107,
   "metadata": {},
   "outputs": [],
   "source": [
    "# Check for missing values\n",
    "for i, t in enumerate(raw_stock_data_tiingo):\n",
    "    if t.isnull().any().any(): print('Missing data.')"
   ]
  },
  {
   "cell_type": "code",
   "execution_count": 108,
   "metadata": {},
   "outputs": [],
   "source": [
    "df=pd.DataFrame()"
   ]
  },
  {
   "cell_type": "code",
   "execution_count": 112,
   "metadata": {},
   "outputs": [],
   "source": [
    "# Save each stock data in a CSV file\n",
    "data_dir = 'data/'\n",
    "raw_data_dir = data_dir + 'raw/'\n",
    "if not os.path.exists(raw_data_dir):\n",
    "        os.makedirs(raw_data_dir)\n",
    "        \n",
    "for t in raw_stock_data:\n",
    "    t.to_csv(raw_data_dir + t.index.values[0][0] + '.csv')"
   ]
  },
  {
   "cell_type": "code",
   "execution_count": null,
   "metadata": {},
   "outputs": [],
   "source": []
  }
 ],
 "metadata": {
  "kernelspec": {
   "display_name": "Python [conda env:root] *",
   "language": "python",
   "name": "conda-root-py"
  },
  "language_info": {
   "codemirror_mode": {
    "name": "ipython",
    "version": 3
   },
   "file_extension": ".py",
   "mimetype": "text/x-python",
   "name": "python",
   "nbconvert_exporter": "python",
   "pygments_lexer": "ipython3",
   "version": "3.7.3"
  }
 },
 "nbformat": 4,
 "nbformat_minor": 2
}
