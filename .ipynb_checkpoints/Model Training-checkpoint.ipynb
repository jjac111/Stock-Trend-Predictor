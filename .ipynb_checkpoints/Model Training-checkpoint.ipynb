{
 "cells": [
  {
   "cell_type": "markdown",
   "metadata": {},
   "source": [
    "# Stock Trend Predictor\n",
    "__Juan Javier Arosemena__\n",
    "## Model Training"
   ]
  },
  {
   "cell_type": "code",
   "execution_count": 1,
   "metadata": {},
   "outputs": [],
   "source": [
    "import os\n",
    "from os.path import isfile, join\n",
    "import matplotlib.pyplot as plt\n",
    "import pandas as pd\n",
    "import numpy as np\n",
    "import statistics\n",
    "from statistics import mean, mode, median, stdev\n",
    "import sagemaker\n",
    "import boto3\n",
    "from sagemaker.pytorch import PyTorch"
   ]
  },
  {
   "cell_type": "code",
   "execution_count": 9,
   "metadata": {},
   "outputs": [],
   "source": [
    "time_range = [1, 5, 10, 20, 90, 270]\n",
    "time_words = {1:'day', 5:'week', 10:'two_weeks', 20:'month', 90:'four_months', 270:'year'}\n",
    "data_dir = join('data/') \n",
    "final_data_dir = join(data_dir + 'final/')\n",
    "\n",
    "prefix = 'stock-trend-predictor'"
   ]
  },
  {
   "cell_type": "code",
   "execution_count": 10,
   "metadata": {},
   "outputs": [
    {
     "ename": "KeyError",
     "evalue": "'AWS_ACCESS_KEY'",
     "output_type": "error",
     "traceback": [
      "\u001b[1;31m---------------------------------------------------------------------------\u001b[0m",
      "\u001b[1;31mKeyError\u001b[0m                                  Traceback (most recent call last)",
      "\u001b[1;32m<ipython-input-10-fca58d62c4b9>\u001b[0m in \u001b[0;36m<module>\u001b[1;34m\u001b[0m\n\u001b[0;32m      1\u001b[0m \u001b[1;31m# session and role\u001b[0m\u001b[1;33m\u001b[0m\u001b[1;33m\u001b[0m\u001b[1;33m\u001b[0m\u001b[0m\n\u001b[0;32m      2\u001b[0m boto_session = boto3.Session(\n\u001b[1;32m----> 3\u001b[1;33m     \u001b[0maws_access_key_id\u001b[0m\u001b[1;33m=\u001b[0m\u001b[0mos\u001b[0m\u001b[1;33m.\u001b[0m\u001b[0menviron\u001b[0m\u001b[1;33m[\u001b[0m\u001b[1;34m'AWS_ACCESS_KEY'\u001b[0m\u001b[1;33m]\u001b[0m\u001b[1;33m,\u001b[0m\u001b[1;33m\u001b[0m\u001b[1;33m\u001b[0m\u001b[0m\n\u001b[0m\u001b[0;32m      4\u001b[0m     \u001b[0maws_secret_access_key\u001b[0m\u001b[1;33m=\u001b[0m\u001b[0mos\u001b[0m\u001b[1;33m.\u001b[0m\u001b[0menviron\u001b[0m\u001b[1;33m[\u001b[0m\u001b[1;34m'AWS_SECRET_KEY'\u001b[0m\u001b[1;33m]\u001b[0m\u001b[1;33m\u001b[0m\u001b[1;33m\u001b[0m\u001b[0m\n\u001b[0;32m      5\u001b[0m )\n",
      "\u001b[1;32mC:\\ProgramData\\Anaconda3\\lib\\os.py\u001b[0m in \u001b[0;36m__getitem__\u001b[1;34m(self, key)\u001b[0m\n\u001b[0;32m    676\u001b[0m         \u001b[1;32mexcept\u001b[0m \u001b[0mKeyError\u001b[0m\u001b[1;33m:\u001b[0m\u001b[1;33m\u001b[0m\u001b[1;33m\u001b[0m\u001b[0m\n\u001b[0;32m    677\u001b[0m             \u001b[1;31m# raise KeyError with the original key value\u001b[0m\u001b[1;33m\u001b[0m\u001b[1;33m\u001b[0m\u001b[1;33m\u001b[0m\u001b[0m\n\u001b[1;32m--> 678\u001b[1;33m             \u001b[1;32mraise\u001b[0m \u001b[0mKeyError\u001b[0m\u001b[1;33m(\u001b[0m\u001b[0mkey\u001b[0m\u001b[1;33m)\u001b[0m \u001b[1;32mfrom\u001b[0m \u001b[1;32mNone\u001b[0m\u001b[1;33m\u001b[0m\u001b[1;33m\u001b[0m\u001b[0m\n\u001b[0m\u001b[0;32m    679\u001b[0m         \u001b[1;32mreturn\u001b[0m \u001b[0mself\u001b[0m\u001b[1;33m.\u001b[0m\u001b[0mdecodevalue\u001b[0m\u001b[1;33m(\u001b[0m\u001b[0mvalue\u001b[0m\u001b[1;33m)\u001b[0m\u001b[1;33m\u001b[0m\u001b[1;33m\u001b[0m\u001b[0m\n\u001b[0;32m    680\u001b[0m \u001b[1;33m\u001b[0m\u001b[0m\n",
      "\u001b[1;31mKeyError\u001b[0m: 'AWS_ACCESS_KEY'"
     ]
    }
   ],
   "source": [
    "# session and role\n",
    "boto_session = boto3.Session(\n",
    "    aws_access_key_id=os.environ['AWS_ACCESS_KEY'],\n",
    "    aws_secret_access_key=os.environ['AWS_SECRET_KEY']\n",
    ")\n",
    "sagemaker_session = sagemaker.Session(boto_session=boto_session)\n",
    "role = sagemaker.get_execution_role(sagemaker_session)\n",
    "\n",
    "# create an S3 bucket\n",
    "bucket = sagemaker_session.default_bucket()"
   ]
  },
  {
   "cell_type": "code",
   "execution_count": 2,
   "metadata": {},
   "outputs": [
    {
     "data": {
      "text/plain": [
       "environ{'ALLUSERSPROFILE': 'C:\\\\ProgramData',\n",
       "        'APPDATA': 'C:\\\\Users\\\\Juan Javier\\\\AppData\\\\Roaming',\n",
       "        'CLASSPATH': 'C:\\\\PROGRA~1\\\\Java\\\\JDK18~1.0_1\\\\db\\\\lib\\\\derby.jar;C:\\\\PROGRA~1\\\\Java\\\\JDK18~1.0_1\\\\db\\\\lib\\\\DERBYT~1.JAR;C:\\\\PROGRA~1\\\\Java\\\\JDK18~1.0_1\\\\db/lib/derbyoptionaltools.jar;',\n",
       "        'COMMONPROGRAMFILES': 'C:\\\\Program Files\\\\Common Files',\n",
       "        'COMMONPROGRAMFILES(X86)': 'C:\\\\Program Files (x86)\\\\Common Files',\n",
       "        'COMMONPROGRAMW6432': 'C:\\\\Program Files\\\\Common Files',\n",
       "        'COMPUTERNAME': 'JJAC',\n",
       "        'COMSPEC': 'C:\\\\WINDOWS\\\\system32\\\\cmd.exe',\n",
       "        'DERBY_HOME': 'C:\\\\Program Files\\\\Java\\\\jdk1.8.0_171\\\\db',\n",
       "        'DERBY_INSTALL': 'C:\\\\Program Files\\\\Java\\\\jdk1.8.0_171\\\\db',\n",
       "        'DRIVERDATA': 'C:\\\\Windows\\\\System32\\\\Drivers\\\\DriverData',\n",
       "        'FPS_BROWSER_APP_PROFILE_STRING': 'Internet Explorer',\n",
       "        'FPS_BROWSER_USER_PROFILE_STRING': 'Default',\n",
       "        'HOMEDRIVE': 'C:',\n",
       "        'HOMEPATH': '\\\\Users\\\\Juan Javier',\n",
       "        'IEX_API_KEY': 'pk_cd3801cbf1534be3bfc016b355840c3d',\n",
       "        'JAVA_HOME': 'C:\\\\Program Files\\\\Java\\\\jdk1.8.0_171',\n",
       "        'LOCALAPPDATA': 'C:\\\\Users\\\\Juan Javier\\\\AppData\\\\Local',\n",
       "        'LOGONSERVER': '\\\\\\\\JJAC',\n",
       "        'NUMBER_OF_PROCESSORS': '8',\n",
       "        'ONEDRIVE': 'C:\\\\Users\\\\Juan Javier\\\\OneDrive',\n",
       "        'ONEDRIVECONSUMER': 'C:\\\\Users\\\\Juan Javier\\\\OneDrive',\n",
       "        'ONLINESERVICES': 'Online Services',\n",
       "        'OS': 'Windows_NT',\n",
       "        'PATH': 'C:\\\\Program Files (x86)\\\\Common Files\\\\Oracle\\\\Java\\\\javapath;C:\\\\Program Files (x86)\\\\Intel\\\\Intel(R) Management Engine Components\\\\iCLS\\\\;C:\\\\Program Files\\\\Intel\\\\Intel(R) Management Engine Components\\\\iCLS\\\\;C:\\\\WINDOWS\\\\system32;C:\\\\WINDOWS;C:\\\\WINDOWS\\\\System32\\\\Wbem;C:\\\\WINDOWS\\\\System32\\\\WindowsPowerShell\\\\v1.0\\\\;C:\\\\Program Files (x86)\\\\Intel\\\\Intel(R) Management Engine Components\\\\DAL;C:\\\\Program Files\\\\Intel\\\\Intel(R) Management Engine Components\\\\DAL;C:\\\\Program Files (x86)\\\\Intel\\\\Intel(R) Management Engine Components\\\\IPT;C:\\\\Program Files\\\\Intel\\\\Intel(R) Management Engine Components\\\\IPT;C:\\\\WINDOWS\\\\System32\\\\OpenSSH\\\\;C:\\\\Program Files\\\\dotnet\\\\;C:\\\\Program Files\\\\Microsoft SQL Server\\\\130\\\\Tools\\\\Binn\\\\;C:\\\\Program Files\\\\Java\\\\jdk1.8.0_171\\\\bin;C:\\\\Program Files\\\\Git\\\\cmd;C:\\\\ProgramData\\\\Anaconda3;C:\\\\ProgramData\\\\Anaconda3\\\\Scripts;C:\\\\ProgramData\\\\Anaconda3\\\\Library\\\\bin;C:\\\\Program Files\\\\MySQL\\\\MySQL Shell 8.0\\\\bin\\\\;C:\\\\Users\\\\Juan Javier\\\\AppData\\\\Local\\\\GitHubDesktop\\\\bin;C:\\\\Program Files (x86)\\\\EaseUS\\\\Todo Backup\\\\bin\\\\x64\\\\;C:\\\\ProgramData\\\\Anaconda3\\\\lib\\\\site-packages\\\\pywin32_system32;C:\\\\ProgramData\\\\Anaconda3\\\\lib\\\\site-packages\\\\pywin32_system32;C:\\\\ProgramData\\\\Anaconda3\\\\lib\\\\site-packages\\\\pywin32_system32;C:\\\\ProgramData\\\\Anaconda3\\\\lib\\\\site-packages\\\\scipy\\\\extra-dll',\n",
       "        'PATHEXT': '.COM;.EXE;.BAT;.CMD;.VBS;.VBE;.JS;.JSE;.WSF;.WSH;.MSC',\n",
       "        'PLATFORMCODE': 'KV',\n",
       "        'PROCESSOR_ARCHITECTURE': 'AMD64',\n",
       "        'PROCESSOR_IDENTIFIER': 'Intel64 Family 6 Model 142 Stepping 10, GenuineIntel',\n",
       "        'PROCESSOR_LEVEL': '6',\n",
       "        'PROCESSOR_REVISION': '8e0a',\n",
       "        'PROGRAMDATA': 'C:\\\\ProgramData',\n",
       "        'PROGRAMFILES': 'C:\\\\Program Files',\n",
       "        'PROGRAMFILES(X86)': 'C:\\\\Program Files (x86)',\n",
       "        'PROGRAMW6432': 'C:\\\\Program Files',\n",
       "        'PROMPT': '$P$G',\n",
       "        'PSMODULEPATH': 'C:\\\\Program Files\\\\WindowsPowerShell\\\\Modules;C:\\\\WINDOWS\\\\system32\\\\WindowsPowerShell\\\\v1.0\\\\Modules',\n",
       "        'PUBLIC': 'C:\\\\Users\\\\Public',\n",
       "        'REGIONCODE': 'LA',\n",
       "        'SESSIONNAME': 'Console',\n",
       "        'SYSTEMDRIVE': 'C:',\n",
       "        'SYSTEMROOT': 'C:\\\\WINDOWS',\n",
       "        'TEMP': 'C:\\\\Users\\\\JUANJA~1\\\\AppData\\\\Local\\\\Temp',\n",
       "        'TIINGO_API_KEY': '997bbb95edc34b4e7a9d7b73aa1fe2ebde0d3888',\n",
       "        'TMP': 'C:\\\\Users\\\\JUANJA~1\\\\AppData\\\\Local\\\\Temp',\n",
       "        'USERDOMAIN': 'JJAC',\n",
       "        'USERDOMAIN_ROAMINGPROFILE': 'JJAC',\n",
       "        'USERNAME': 'Juan Javier',\n",
       "        'USERPROFILE': 'C:\\\\Users\\\\Juan Javier',\n",
       "        'WINDIR': 'C:\\\\WINDOWS',\n",
       "        'KERNEL_LAUNCH_TIMEOUT': '40',\n",
       "        'JPY_INTERRUPT_EVENT': '2960',\n",
       "        'IPY_INTERRUPT_EVENT': '2960',\n",
       "        'JPY_PARENT_PID': '2876',\n",
       "        'TERM': 'xterm-color',\n",
       "        'CLICOLOR': '1',\n",
       "        'PAGER': 'cat',\n",
       "        'GIT_PAGER': 'cat',\n",
       "        'MPLBACKEND': 'module://ipykernel.pylab.backend_inline'}"
      ]
     },
     "execution_count": 2,
     "metadata": {},
     "output_type": "execute_result"
    }
   ],
   "source": [
    "os.environ"
   ]
  },
  {
   "cell_type": "code",
   "execution_count": 4,
   "metadata": {},
   "outputs": [],
   "source": [
    "data = sagemaker_session.upload_data(final_data_dir, bucket=bucket, key_prefix=prefix)"
   ]
  },
  {
   "cell_type": "code",
   "execution_count": 5,
   "metadata": {},
   "outputs": [],
   "source": [
    "estimators = []\n",
    "for t in time_range:\n",
    "    estimator = PyTorch(entry_point='train.py',\n",
    "                        source_dir='source',\n",
    "                        framework_version=1.0, \n",
    "                        role=role,\n",
    "                        train_instance_count=1,\n",
    "                        train_instance_type='ml.p2.xlarge',\n",
    "                        sagemaker_session=sagemaker_session)\n",
    "    estimators.append(estimator)"
   ]
  },
  {
   "cell_type": "code",
   "execution_count": 6,
   "metadata": {},
   "outputs": [],
   "source": [
    "for t, estimator in zip(time_range, estimators):\n",
    "    estimator.fit({'training': data+'/'+time_words[t]+'/train.csv'}, wait=False)"
   ]
  },
  {
   "cell_type": "code",
   "execution_count": 13,
   "metadata": {},
   "outputs": [
    {
     "name": "stdout",
     "output_type": "stream",
     "text": [
      "\n",
      "2019-10-18 22:13:36 Starting - Preparing the instances for training\n",
      "2019-10-18 22:13:36 Downloading - Downloading input data\n",
      "2019-10-18 22:13:36 Training - Training image download completed. Training in progress.\n",
      "2019-10-18 22:13:36 Uploading - Uploading generated training model\n",
      "2019-10-18 22:13:36 Completed - Training job completed\n",
      "\n",
      "2019-10-18 22:13:35 Starting - Preparing the instances for training\n",
      "2019-10-18 22:13:35 Downloading - Downloading input data\n",
      "2019-10-18 22:13:35 Training - Training image download completed. Training in progress.\n",
      "2019-10-18 22:13:35 Uploading - Uploading generated training model\n",
      "2019-10-18 22:13:35 Completed - Training job completed\n",
      "\n",
      "2019-10-18 22:13:29 Starting - Preparing the instances for training\n",
      "2019-10-18 22:13:29 Downloading - Downloading input data\n",
      "2019-10-18 22:13:29 Training - Training image download completed. Training in progress.\n",
      "2019-10-18 22:13:29 Uploading - Uploading generated training model\n",
      "2019-10-18 22:13:29 Completed - Training job completed\n",
      "\n",
      "2019-10-18 22:13:47 Starting - Preparing the instances for training\n",
      "2019-10-18 22:13:47 Downloading - Downloading input data\n",
      "2019-10-18 22:13:47 Training - Training image download completed. Training in progress.\n",
      "2019-10-18 22:13:47 Uploading - Uploading generated training model\n",
      "2019-10-18 22:13:47 Completed - Training job completed\n",
      "\n",
      "2019-10-18 22:13:38 Starting - Preparing the instances for training\n",
      "2019-10-18 22:13:38 Downloading - Downloading input data\n",
      "2019-10-18 22:13:38 Training - Training image download completed. Training in progress.\n",
      "2019-10-18 22:13:38 Uploading - Uploading generated training model\n",
      "2019-10-18 22:13:38 Completed - Training job completed\n",
      "\n",
      "2019-10-18 22:13:14 Starting - Preparing the instances for training\n",
      "2019-10-18 22:13:14 Downloading - Downloading input data\n",
      "2019-10-18 22:13:14 Training - Training image download completed. Training in progress.\n",
      "2019-10-18 22:13:14 Uploading - Uploading generated training model\n",
      "2019-10-18 22:13:14 Completed - Training job completed\n"
     ]
    }
   ],
   "source": [
    "for estimator in estimators:\n",
    "    sagemaker_session.wait_for_job(estimator.latest_training_job.job_name);"
   ]
  },
  {
   "cell_type": "code",
   "execution_count": 14,
   "metadata": {},
   "outputs": [],
   "source": [
    "predictors = []\n",
    "for estimator in estimators:\n",
    "    predictor = estimator.deploy(1, 'ml.m4.xlarge', wait=False)\n",
    "    predictors.append(predictor)"
   ]
  },
  {
   "cell_type": "code",
   "execution_count": 17,
   "metadata": {},
   "outputs": [
    {
     "name": "stdout",
     "output_type": "stream",
     "text": [
      "---------------------------------------------------------------------!!!-!!!"
     ]
    }
   ],
   "source": [
    "for predictor in predictors:\n",
    "    sagemaker_session.wait_for_endpoint(predictor.endpoint)"
   ]
  },
  {
   "cell_type": "code",
   "execution_count": 18,
   "metadata": {},
   "outputs": [
    {
     "name": "stdout",
     "output_type": "stream",
     "text": [
      "\n",
      "\n",
      "1 DAYS PREDICTION MODEL:\n",
      "Accuracy: 0.5105636010281487\n",
      "False positives: 7807\n",
      "False negatives: 0\n",
      "\n",
      "\n",
      "5 DAYS PREDICTION MODEL:\n",
      "Accuracy: 0.5227358848048503\n",
      "False positives: 7550\n",
      "False negatives: 7\n",
      "\n",
      "\n",
      "10 DAYS PREDICTION MODEL:\n",
      "Accuracy: 0.5216644397785837\n",
      "False positives: 7518\n",
      "False negatives: 0\n",
      "\n",
      "\n",
      "20 DAYS PREDICTION MODEL:\n",
      "Accuracy: 0.5146982646982647\n",
      "False positives: 7495\n",
      "False negatives: 0\n",
      "\n",
      "\n",
      "90 DAYS PREDICTION MODEL:\n",
      "Accuracy: 0.5511355311355312\n",
      "False positives: 6127\n",
      "False negatives: 0\n",
      "\n",
      "\n",
      "270 DAYS PREDICTION MODEL:\n",
      "Accuracy: 0.6059085841694537\n",
      "False positives: 3535\n",
      "False negatives: 0\n"
     ]
    }
   ],
   "source": [
    "for t, predictor in zip(time_range, predictors):\n",
    "    # read in test data, assuming it is stored locally\n",
    "    test_data = pd.read_csv(join(final_data_dir, time_words[t]+\"/test.csv\"), header=None, names=None)\n",
    "    # labels are in the first column\n",
    "    test_y = test_data.iloc[:,0]\n",
    "    test_x = test_data.iloc[:,1:]\n",
    "\n",
    "    # First: generate predicted, class labels\n",
    "    \n",
    "    test_y_preds_ = predictor.predict(test_x)\n",
    "    test_y_preds = test_y_preds_.round()\n",
    "\n",
    "\n",
    "    # Second: calculate the test accuracy\n",
    "\n",
    "    accuracy = 0\n",
    "    fp = 0\n",
    "    fn = 0\n",
    "    for y, y_ in zip(test_y, test_y_preds):\n",
    "        accuracy += 1 if y==y_ else 0\n",
    "        fp += 1 if not y and y_ else 0\n",
    "        fn += 1 if y and not y_ else 0\n",
    "\n",
    "    accuracy /= len(test_y)\n",
    "    print(f'\\n\\n{t} DAYS PREDICTION MODEL:')\n",
    "    print('Accuracy: '+str(accuracy))\n",
    "    print('False positives: '+str(fp))\n",
    "    print('False negatives: '+str(fn))\n",
    "\n",
    "    predictor.delete_endpoint()"
   ]
  },
  {
   "cell_type": "code",
   "execution_count": null,
   "metadata": {},
   "outputs": [],
   "source": []
  }
 ],
 "metadata": {
  "kernelspec": {
   "display_name": "Python 3",
   "language": "python",
   "name": "python3"
  },
  "language_info": {
   "codemirror_mode": {
    "name": "ipython",
    "version": 3
   },
   "file_extension": ".py",
   "mimetype": "text/x-python",
   "name": "python",
   "nbconvert_exporter": "python",
   "pygments_lexer": "ipython3",
   "version": "3.7.3"
  }
 },
 "nbformat": 4,
 "nbformat_minor": 4
}
