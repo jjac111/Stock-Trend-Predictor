{
 "cells": [
  {
   "cell_type": "markdown",
   "metadata": {},
   "source": [
    "# Stock Trend Predictor\n",
    "__Juan Javier Arosemena__\n",
    "## Model Training\n",
    "The modeling phase of the machine learning workflow consists in defining the models to be trained, train the created models, and subsequently test each model's accuracy.\n",
    "\n",
    "I am using Amazon Sagemaker for the training, testing, and deployment of the defined models. "
   ]
  },
  {
   "cell_type": "code",
   "execution_count": 2,
   "metadata": {},
   "outputs": [],
   "source": [
    "import os\n",
    "from os.path import isfile, join\n",
    "import matplotlib.pyplot as plt\n",
    "import pandas as pd\n",
    "import numpy as np\n",
    "import statistics\n",
    "from statistics import mean, mode, median, stdev\n",
    "import sagemaker\n",
    "import boto3\n",
    "from sagemaker.pytorch import PyTorch"
   ]
  },
  {
   "cell_type": "code",
   "execution_count": 7,
   "metadata": {},
   "outputs": [],
   "source": [
    "time_range = [1, 5, 10, 20, 90, 270]\n",
    "time_words = {1:'day', 5:'week', 10:'two_weeks', 20:'month', 90:'four_months', 270:'year'}\n",
    "periods = [5, 10, 20, 90, 270]\n",
    "data_dir = join('data/') \n",
    "final_data_dir = join(data_dir + 'final/')\n",
    "\n",
    "prefix = 'stock-trend-predictor'"
   ]
  },
  {
   "cell_type": "code",
   "execution_count": 4,
   "metadata": {},
   "outputs": [],
   "source": [
    "# session and role\n",
    "boto_session = boto3.Session(\n",
    "    aws_access_key_id=os.environ['AWS_ACCESS_KEY'],\n",
    "    aws_secret_access_key=os.environ['AWS_SECRET_KEY'],\n",
    "    region_name='us-east-2'\n",
    ")\n",
    "sagemaker_session = sagemaker.Session(boto_session=boto_session)\n",
    "role = os.environ['AWS_SAGEMAKER_ROLE']\n",
    "\n",
    "# create an S3 bucket\n",
    "bucket = sagemaker_session.default_bucket()"
   ]
  },
  {
   "cell_type": "code",
   "execution_count": 4,
   "metadata": {},
   "outputs": [],
   "source": [
    "data = sagemaker_session.upload_data(final_data_dir, bucket=bucket, key_prefix=prefix)"
   ]
  },
  {
   "cell_type": "code",
   "execution_count": 5,
   "metadata": {},
   "outputs": [],
   "source": [
    "estimators = []\n",
    "for t in time_range:\n",
    "    for n1 in periods:\n",
    "        for n2 in periods:\n",
    "            estimator = PyTorch(entry_point='train.py',\n",
    "                                source_dir='source',\n",
    "                                framework_version=1.0, \n",
    "                                role=role,\n",
    "                                train_instance_count=1,\n",
    "                                train_instance_type='ml.p2.xlarge',\n",
    "                                sagemaker_session=sagemaker_session)\n",
    "            estimator.fit({'training': data+'/'+time_words[t]+f'/{n1}_{n2}/train.csv'}, wait=False)\n",
    "            estimators.append(estimator)"
   ]
  },
  {
   "cell_type": "code",
   "execution_count": 13,
   "metadata": {},
   "outputs": [
    {
     "name": "stdout",
     "output_type": "stream",
     "text": [
      "\n",
      "2019-10-18 22:13:36 Starting - Preparing the instances for training\n",
      "2019-10-18 22:13:36 Downloading - Downloading input data\n",
      "2019-10-18 22:13:36 Training - Training image download completed. Training in progress.\n",
      "2019-10-18 22:13:36 Uploading - Uploading generated training model\n",
      "2019-10-18 22:13:36 Completed - Training job completed\n",
      "\n",
      "2019-10-18 22:13:35 Starting - Preparing the instances for training\n",
      "2019-10-18 22:13:35 Downloading - Downloading input data\n",
      "2019-10-18 22:13:35 Training - Training image download completed. Training in progress.\n",
      "2019-10-18 22:13:35 Uploading - Uploading generated training model\n",
      "2019-10-18 22:13:35 Completed - Training job completed\n",
      "\n",
      "2019-10-18 22:13:29 Starting - Preparing the instances for training\n",
      "2019-10-18 22:13:29 Downloading - Downloading input data\n",
      "2019-10-18 22:13:29 Training - Training image download completed. Training in progress.\n",
      "2019-10-18 22:13:29 Uploading - Uploading generated training model\n",
      "2019-10-18 22:13:29 Completed - Training job completed\n",
      "\n",
      "2019-10-18 22:13:47 Starting - Preparing the instances for training\n",
      "2019-10-18 22:13:47 Downloading - Downloading input data\n",
      "2019-10-18 22:13:47 Training - Training image download completed. Training in progress.\n",
      "2019-10-18 22:13:47 Uploading - Uploading generated training model\n",
      "2019-10-18 22:13:47 Completed - Training job completed\n",
      "\n",
      "2019-10-18 22:13:38 Starting - Preparing the instances for training\n",
      "2019-10-18 22:13:38 Downloading - Downloading input data\n",
      "2019-10-18 22:13:38 Training - Training image download completed. Training in progress.\n",
      "2019-10-18 22:13:38 Uploading - Uploading generated training model\n",
      "2019-10-18 22:13:38 Completed - Training job completed\n",
      "\n",
      "2019-10-18 22:13:14 Starting - Preparing the instances for training\n",
      "2019-10-18 22:13:14 Downloading - Downloading input data\n",
      "2019-10-18 22:13:14 Training - Training image download completed. Training in progress.\n",
      "2019-10-18 22:13:14 Uploading - Uploading generated training model\n",
      "2019-10-18 22:13:14 Completed - Training job completed\n"
     ]
    }
   ],
   "source": [
    "for estimator in estimators:\n",
    "    sagemaker_session.wait_for_job(estimator.latest_training_job.job_name);"
   ]
  },
  {
   "cell_type": "code",
   "execution_count": 14,
   "metadata": {},
   "outputs": [],
   "source": [
    "predictors = []\n",
    "for estimator in estimators:\n",
    "    predictor = estimator.deploy(1, 'ml.m4.xlarge', wait=False)\n",
    "    predictors.append(predictor)"
   ]
  },
  {
   "cell_type": "code",
   "execution_count": 17,
   "metadata": {},
   "outputs": [
    {
     "name": "stdout",
     "output_type": "stream",
     "text": [
      "---------------------------------------------------------------------!!!-!!!"
     ]
    }
   ],
   "source": [
    "for predictor in predictors:\n",
    "    sagemaker_session.wait_for_endpoint(predictor.endpoint)"
   ]
  },
  {
   "cell_type": "code",
   "execution_count": 9,
   "metadata": {},
   "outputs": [],
   "source": [
    "period_combinations = []\n",
    "for t in time_range:\n",
    "    for n1 in periods:\n",
    "        for n2 in periods:\n",
    "            period_combinations.append((t, n1, n2))"
   ]
  },
  {
   "cell_type": "code",
   "execution_count": 18,
   "metadata": {},
   "outputs": [
    {
     "name": "stdout",
     "output_type": "stream",
     "text": [
      "\n",
      "\n",
      "1 DAYS PREDICTION MODEL:\n",
      "Accuracy: 0.5105636010281487\n",
      "False positives: 7807\n",
      "False negatives: 0\n",
      "\n",
      "\n",
      "5 DAYS PREDICTION MODEL:\n",
      "Accuracy: 0.5227358848048503\n",
      "False positives: 7550\n",
      "False negatives: 7\n",
      "\n",
      "\n",
      "10 DAYS PREDICTION MODEL:\n",
      "Accuracy: 0.5216644397785837\n",
      "False positives: 7518\n",
      "False negatives: 0\n",
      "\n",
      "\n",
      "20 DAYS PREDICTION MODEL:\n",
      "Accuracy: 0.5146982646982647\n",
      "False positives: 7495\n",
      "False negatives: 0\n",
      "\n",
      "\n",
      "90 DAYS PREDICTION MODEL:\n",
      "Accuracy: 0.5511355311355312\n",
      "False positives: 6127\n",
      "False negatives: 0\n",
      "\n",
      "\n",
      "270 DAYS PREDICTION MODEL:\n",
      "Accuracy: 0.6059085841694537\n",
      "False positives: 3535\n",
      "False negatives: 0\n"
     ]
    }
   ],
   "source": [
    "for (t, n1, n2), predictor in zip(period_combinations, predictors):\n",
    "    # read in test data, assuming it is stored locally\n",
    "    test_data = pd.read_csv(join(final_data_dir, time_words[t]+f\"/{n1}_{n2}/test.csv\"), header=None, names=None)\n",
    "    # labels are in the first column\n",
    "    test_y = test_data.iloc[:,0]\n",
    "    test_x = test_data.iloc[:,1:]\n",
    "\n",
    "    # First: generate predicted, class labels\n",
    "    \n",
    "    test_y_preds_ = predictor.predict(test_x)\n",
    "    test_y_preds = test_y_preds_.round()\n",
    "\n",
    "\n",
    "    # Second: calculate the test accuracy\n",
    "\n",
    "    accuracy = 0\n",
    "    fp = 0\n",
    "    fn = 0\n",
    "    for y, y_ in zip(test_y, test_y_preds):\n",
    "        accuracy += 1 if y==y_ else 0\n",
    "        fp += 1 if not y and y_ else 0\n",
    "        fn += 1 if y and not y_ else 0\n",
    "\n",
    "    accuracy /= len(test_y)\n",
    "    print(f'\\n\\n{t} DAYS PREDICTION MODEL, n1 = {n1}, n2 = {n2}:')\n",
    "    print('Accuracy: '+str(accuracy))\n",
    "    print('False positives: '+str(fp))\n",
    "    print('False negatives: '+str(fn))\n",
    "\n",
    "    predictor.delete_endpoint()"
   ]
  },
  {
   "cell_type": "code",
   "execution_count": null,
   "metadata": {},
   "outputs": [],
   "source": []
  }
 ],
 "metadata": {
  "kernelspec": {
   "display_name": "Python 3",
   "language": "python",
   "name": "python3"
  },
  "language_info": {
   "codemirror_mode": {
    "name": "ipython",
    "version": 3
   },
   "file_extension": ".py",
   "mimetype": "text/x-python",
   "name": "python",
   "nbconvert_exporter": "python",
   "pygments_lexer": "ipython3",
   "version": "3.7.3"
  }
 },
 "nbformat": 4,
 "nbformat_minor": 4
}
